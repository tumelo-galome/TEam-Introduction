{
 "cells": [
  {
   "cell_type": "code",
   "execution_count": null,
   "id": "34947bb9",
   "metadata": {},
   "outputs": [],
   "source": [
    "# Introduction for team 3\n",
    "\n",
    "# print the Introduction, tell user what to do\n",
    "print(f\"\"\"*********************************\n",
    "Introduction:\n",
    "You get introduced to our team. Change up the story by selecting words.\n",
    "Input the first word coming up to your mind. After you have filled up all\n",
    "the words, you will get to know us more! Have fun.\n",
    "\n",
    "*********************************\n",
    "\"\"\")\n",
    "\n",
    "# Tell the user to press Enter to start in an input box\n",
    "start = input(prompt = \"Enter to start\")\n",
    "\n",
    "# define variables to change words later. Give the user an input box and \n",
    "# save the input.\n",
    "animal = input(prompt=\"\"\"Put an animal \\n\"\"\")\n",
    "location = input(prompt=\"\"\"Put a fun location in Boston \\n\"\"\")\n",
    "emotion = input(prompt = \"\"\"Put an emotion (eg How do you feel right now?) \\n\"\"\")\n",
    "artist = input(prompt = \"\"\"Put a celebrity\\n\"\"\")\n",
    "action = input(prompt = \"\"\"Put verb ending in '-ing' \\n\"\"\")\n",
    "profession = input(prompt = \"\"\"Enter a profession \\n\"\"\")\n",
    "cuisine = input(prompt = \"\"\"Enter a type of cuisine \\n\"\"\")\n",
    "verb = input(prompt = \"\"\"Enter a verb \\n\"\"\")\n",
    "addict = input(prompt = \"\"\"Enter something you can get addicted to \\n\"\"\")\n",
    "verb2 = input(prompt = \"\"\"Enter a verb \\n\"\"\")\n",
    "\n",
    "# print the final story. Replace several words by our variables using f before print\n",
    "\n",
    "print(f\"\"\"We are Team 3 consisting of a bunch of {animal}s from all over the \n",
    "world such as Chile, India, Germany, Mexico and Botswana. Can you imagine \n",
    "{animal}s there?! The first time we bonded we planned to go bowling. Since the \n",
    "waiting time was too long, we ended up at the {location}. We felt very \n",
    "{emotion} to be around each other for such a long time. We share a lot of \n",
    "interests, for example music, food and traveling. Next year, we are planning \n",
    "on going to the {artist} concert in Boston together. In two weeks from now, \n",
    "we plan on having a pot luck to share each others cultural food. It is \n",
    "surprising that we have come so far into the program without {action} each \n",
    "other. Some people in our group still think they would choose a compass over \n",
    "a gun after a plane crash. So ridiculous ;)!\n",
    "\n",
    "Fun facts about our team members:\n",
    "\n",
    "{animal} 1 wants to become the best {profession}. \n",
    "\n",
    "{animal} 2 loves cooking {cuisine} food. \n",
    "\n",
    "{animal} 3 has to {verb} his clothes in Boston. \n",
    "\n",
    "{animal} 4 is super addicted to {addict}.\n",
    "\n",
    "{animal} 5 is a professional {verb2}er. \n",
    "\"\"\")\n",
    "\n",
    "# tell the user to leave a comment\n",
    "print(f\"\"\"Please leave a comment in MyCourses!\"\"\")"
   ]
  },
  {
   "cell_type": "markdown",
   "id": "f095d173",
   "metadata": {},
   "source": [
    "We are Team 3 consisting of a bunch of people from all over the world such as Chile, India, Germany, Mexico and Botswana. The first time we bonded we planned to go bowling. Since the waiting time was too long, we ended up at the Arcade. We felt very happy to be around each other for such a long time. We share a lot of interests, for example music, food and traveling. Next year, we are planning on going to the \"Weeknd\" concert in Boston together. In two weeks from now, we plan on having a pot luck to share each others cultural food.\n",
    "It is surprising that we have come so far into the program without killing each other. Some people in our group still think they would choose a compass over a gun after a plane crash. So ridiculous ;)! \n",
    "\n",
    "\n",
    "Fun facts about our team members: \n",
    "Camila wants to become the best astronaut. \n",
    "Bindu loves cooking Indian food.\n",
    "Tim has to handwash his clothes in Boston. \n",
    "Mauricio is super addicted to football.\n",
    "Tumelo is professional dancer.\n"
   ]
  },
  {
   "cell_type": "code",
   "execution_count": null,
   "id": "95690ea7",
   "metadata": {},
   "outputs": [],
   "source": []
  }
 ],
 "metadata": {
  "kernelspec": {
   "display_name": "Python 3 (ipykernel)",
   "language": "python",
   "name": "python3"
  },
  "language_info": {
   "codemirror_mode": {
    "name": "ipython",
    "version": 3
   },
   "file_extension": ".py",
   "mimetype": "text/x-python",
   "name": "python",
   "nbconvert_exporter": "python",
   "pygments_lexer": "ipython3",
   "version": "3.8.8"
  },
  "toc": {
   "base_numbering": 1,
   "nav_menu": {},
   "number_sections": true,
   "sideBar": true,
   "skip_h1_title": false,
   "title_cell": "Table of Contents",
   "title_sidebar": "Contents",
   "toc_cell": false,
   "toc_position": {},
   "toc_section_display": true,
   "toc_window_display": false
  },
  "varInspector": {
   "cols": {
    "lenName": 16,
    "lenType": 16,
    "lenVar": 40
   },
   "kernels_config": {
    "python": {
     "delete_cmd_postfix": "",
     "delete_cmd_prefix": "del ",
     "library": "var_list.py",
     "varRefreshCmd": "print(var_dic_list())"
    },
    "r": {
     "delete_cmd_postfix": ") ",
     "delete_cmd_prefix": "rm(",
     "library": "var_list.r",
     "varRefreshCmd": "cat(var_dic_list()) "
    }
   },
   "types_to_exclude": [
    "module",
    "function",
    "builtin_function_or_method",
    "instance",
    "_Feature"
   ],
   "window_display": false
  }
 },
 "nbformat": 4,
 "nbformat_minor": 5
}
